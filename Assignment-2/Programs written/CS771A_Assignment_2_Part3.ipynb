{
 "cells": [
  {
   "cell_type": "code",
   "execution_count": 27,
   "id": "2ad0de3a",
   "metadata": {},
   "outputs": [],
   "source": [
    "import pickle\n",
    "import matplotlib.pyplot as plt\n",
    "from sklearn.decomposition import PCA\n",
    "from sklearn.manifold import TSNE"
   ]
  },
  {
   "cell_type": "code",
   "execution_count": 28,
   "id": "ad21146a",
   "metadata": {},
   "outputs": [],
   "source": [
    "# Load the data from the MNIST digits data Pickle File.\n",
    "with open(\"data/mnist_small.pkl\", \"rb\") as file:\n",
    "    data = pickle.load(file)"
   ]
  },
  {
   "cell_type": "code",
   "execution_count": 29,
   "id": "d19dcc91",
   "metadata": {},
   "outputs": [],
   "source": [
    "# Separating features and labels.\n",
    "features, labels = data[\"X\"], data[\"Y\"]\n",
    "\n",
    "# Assigning color code to each digit based on its value.\n",
    "colors = [\"violet\", \"indigo\", \"blue\", \"cyan\", \"green\", \"yellow\", \"orange\", \"red\", \"pink\", \"gray\"]\n",
    "label_colors = []\n",
    "for label in labels:\n",
    "    label_colors.append(colors[label[0]])"
   ]
  },
  {
   "cell_type": "code",
   "execution_count": 30,
   "id": "fac2ccc3",
   "metadata": {},
   "outputs": [],
   "source": [
    "# Perform the Pricipal Component Analysis.\n",
    "pca_output = PCA(n_components=2).fit_transform(features)"
   ]
  },
  {
   "cell_type": "code",
   "execution_count": 31,
   "id": "018d7cda",
   "metadata": {},
   "outputs": [],
   "source": [
    "# Perform the tSNE projection.\n",
    "tsne_output = TSNE(n_components=2, random_state=100).fit_transform(features)"
   ]
  },
  {
   "cell_type": "code",
   "execution_count": 32,
   "id": "6ace3f17",
   "metadata": {},
   "outputs": [],
   "source": [
    "# Helper function for visualising the plots.\n",
    "def plot(data, path, label_colors):\n",
    "    x, y = zip(*data)\n",
    "    plt.scatter(x, y, c=label_colors, marker=\"x\")\n",
    "    plt.xlabel(\"First component of the projected features in 2-Dimensions\")\n",
    "    plt.ylabel(\"Second component of the projected features in 2-Dimensions\")\n",
    "    plt.title(\"Scatter Plot for MNIST digits based on dimensionality reduction\")\n",
    "    plt.savefig(path)\n",
    "    plt.close()\n",
    "\n",
    "# Visualising the results of the PCA scatter plot.\n",
    "plot(pca_output, \"PCA_Output.png\", label_colors)\n",
    "# Visualising the results of the tSNE scatter plot.\n",
    "plot(tsne_output, \"tSNE_Output.png\", label_colors)"
   ]
  }
 ],
 "metadata": {
  "kernelspec": {
   "display_name": "Python 3 (ipykernel)",
   "language": "python",
   "name": "python3"
  },
  "language_info": {
   "codemirror_mode": {
    "name": "ipython",
    "version": 3
   },
   "file_extension": ".py",
   "mimetype": "text/x-python",
   "name": "python",
   "nbconvert_exporter": "python",
   "pygments_lexer": "ipython3",
   "version": "3.11.6"
  }
 },
 "nbformat": 4,
 "nbformat_minor": 5
}
