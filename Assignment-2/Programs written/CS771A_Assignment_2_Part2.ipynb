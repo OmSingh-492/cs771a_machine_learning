{
 "cells": [
  {
   "cell_type": "code",
   "execution_count": 33,
   "id": "3e0bb18b",
   "metadata": {},
   "outputs": [],
   "source": [
    "# Importing the required modules and libraries.\n",
    "import numpy as np\n",
    "import matplotlib.pyplot as plt"
   ]
  },
  {
   "cell_type": "code",
   "execution_count": 34,
   "id": "33b5a786",
   "metadata": {},
   "outputs": [],
   "source": [
    "# Loading and visualising the dataset.\n",
    "data = np.loadtxt(\"data/kmeans_data.txt\")\n",
    "plt.scatter(data[:, 0], data[:, 1], marker=\"x\", color='b')\n",
    "plt.title(\"Visualising the actual dataset\")\n",
    "plt.xlabel(\"Feature-1\")\n",
    "plt.ylabel(\"Feature-2\")\n",
    "plt.savefig(\"Original Dataset.png\")\n",
    "plt.close()"
   ]
  },
  {
   "cell_type": "code",
   "execution_count": 35,
   "id": "622a6f23",
   "metadata": {},
   "outputs": [],
   "source": [
    "# Use of Hand-crafted Features. Choose (x, y) -> (sqrt(x^2 + y^2), y) as the transformation.\n",
    "transformed_data = np.column_stack((np.sqrt(np.sum(data ** 2, axis=1)), data[:, 1]))\n",
    "plt.scatter(transformed_data[:, 0], transformed_data[:, 1], marker=\"x\", color='b')\n",
    "plt.title(\"Visualising the transformed dataset\")\n",
    "plt.xlabel(\"Feature-1\")\n",
    "plt.ylabel(\"Feature-2\")\n",
    "plt.savefig(\"Transformed Dataset.png\")\n",
    "plt.close()\n",
    "\n",
    "def k_means(tranformed_data, k, max_iterations, tolerance):\n",
    "    # Randomly initialize cluster centroids.\n",
    "    centroids = data[:k]\n",
    "    for _ in range(max_iterations):\n",
    "        labels = np.argmin(np.linalg.norm(transformed_data[:, np.newaxis] - centroids, axis=2), axis=1)\n",
    "        new_centroids = np.array([transformed_data[labels == j].mean(axis=0) for j in range(k)])\n",
    "        if np.linalg.norm(new_centroids - centroids) < tolerance:\n",
    "            break\n",
    "        centroids = new_centroids\n",
    "    return labels\n",
    "\n",
    "k, max_iterations, tolerance = 2, 10 ** 6, 1e-4\n",
    "labels = k_means(transformed_data, k, max_iterations, tolerance)\n",
    "colors = [\"green\" if label == 1 else \"red\" for label in labels]\n",
    "plt.scatter(data[:, 0], data[:, 1], marker=\"x\", color=colors)\n",
    "plt.title(\"Results of K-means clustering after choosing hand-crafted features\")\n",
    "plt.xlabel(\"Feature-1\")\n",
    "plt.ylabel(\"Feature-2\")\n",
    "plt.savefig(\"Hand-Picked Transformation results.png\")\n",
    "plt.close()"
   ]
  },
  {
   "cell_type": "code",
   "execution_count": 37,
   "id": "391b4459",
   "metadata": {},
   "outputs": [],
   "source": [
    "# Kernel K-means clustering based on a single landmark point implementation.\n",
    "def rbf_kernel(data, landmark, gamma):\n",
    "    return np.exp(-gamma * np.linalg.norm(data - landmark, axis=1) ** 2)\n",
    "\n",
    "def k_means(tranformed_data, k, max_iterations, tolerance):\n",
    "    # Randomly initialize cluster centroids.\n",
    "    centroids = data[:k]\n",
    "    for _ in range(max_iterations):\n",
    "        labels = np.argmin(np.linalg.norm(transformed_data[:, np.newaxis] - centroids, axis=2), axis=1)\n",
    "        new_centroids = np.array([transformed_data[labels == j].mean(axis=0) for j in range(k)])\n",
    "        if np.linalg.norm(new_centroids - centroids) < tolerance:\n",
    "            break\n",
    "        centroids = new_centroids\n",
    "    return centroids, labels\n",
    "\n",
    "num_runs, k, gamma, max_iterations, tolerance = 10, 2, 0.1, 10 ** 6, 1e-4\n",
    "size = data.shape[0]\n",
    "\n",
    "for run in range(num_runs):\n",
    "    # Choose a single random landmark point.\n",
    "    landmark_index = np.random.choice(size)\n",
    "    landmark = data[landmark_index]\n",
    "    features = rbf_kernel(data, landmark, gamma)[:, np.newaxis]\n",
    "\n",
    "    # Run K-means on the extracted features.\n",
    "    centroids, labels = k_means(features, k, max_iterations, tolerance)\n",
    "    # Visualising the results.\n",
    "    colors = [\"green\" if label == 1 else \"red\" for label in labels]\n",
    "    plt.scatter(data[:, 0], data[:, 1], marker=\"x\", color=colors)\n",
    "    plt.scatter(landmark[0], landmark[1], marker=\"x\", color=\"blue\")\n",
    "    plt.title(f\"Run {run + 1} - K-Means Clustering with Single Landmark\")\n",
    "    plt.xlabel(\"Feature-1\")\n",
    "    plt.ylabel(\"Feature-2\")\n",
    "    path = \"Run \" + str(run + 1) + \" of K-means clustering with single landmark point.png\"\n",
    "    plt.savefig(path)\n",
    "    plt.close()"
   ]
  }
 ],
 "metadata": {
  "kernelspec": {
   "display_name": "Python 3 (ipykernel)",
   "language": "python",
   "name": "python3"
  },
  "language_info": {
   "codemirror_mode": {
    "name": "ipython",
    "version": 3
   },
   "file_extension": ".py",
   "mimetype": "text/x-python",
   "name": "python",
   "nbconvert_exporter": "python",
   "pygments_lexer": "ipython3",
   "version": "3.11.6"
  }
 },
 "nbformat": 4,
 "nbformat_minor": 5
}
