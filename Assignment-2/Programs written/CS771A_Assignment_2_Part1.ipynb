{
 "cells": [
  {
   "cell_type": "code",
   "execution_count": 1,
   "id": "49ab9176",
   "metadata": {},
   "outputs": [],
   "source": [
    "import numpy as np\n",
    "from sklearn.kernel_ridge import KernelRidge\n",
    "from sklearn.linear_model import Ridge\n",
    "from sklearn.metrics import mean_squared_error\n",
    "import matplotlib.pyplot as plt"
   ]
  },
  {
   "cell_type": "code",
   "execution_count": 2,
   "id": "e18527e0",
   "metadata": {},
   "outputs": [],
   "source": [
    "# Load the training data and the test data.\n",
    "training_data = np.loadtxt(\"data/ridgetrain.txt\")\n",
    "testing_data = np.loadtxt(\"data/ridgetest.txt\")"
   ]
  },
  {
   "cell_type": "code",
   "execution_count": 3,
   "id": "4ff6a4bb",
   "metadata": {},
   "outputs": [],
   "source": [
    "# Define the bandwidth parameter.\n",
    "gamma = 0.1\n",
    "x_train, y_train = training_data[:, 0].reshape(-1, 1), training_data[:, 1]\n",
    "x_test, y_test = testing_data[:, 0].reshape(-1, 1), testing_data[:, 1]\n",
    "number_train, number_test = len(x_train), len(x_test)"
   ]
  },
  {
   "cell_type": "code",
   "execution_count": 4,
   "id": "a031ee66",
   "metadata": {},
   "outputs": [],
   "source": [
    "# Part-1: Kernel Ridge Regression.\n",
    "def rbf_kernel(x1, x2, gamma):\n",
    "    return np.exp(-gamma * (np.linalg.norm(x1 - x2)) ** 2)\n",
    "\n",
    "def kernel_ridge_regression(x_train, y_train, x_test, number_train, number_test, hyperparameter, gamma):\n",
    "    kernel_train = np.zeros((number_train, number_train))\n",
    "    kernel_test = np.zeros((number_test, number_train))\n",
    "    for i in range(number_train):\n",
    "        for j in range(number_train):\n",
    "            kernel_train[i, j] = rbf_kernel(x_train[i], x_train[j], gamma)\n",
    "    for i in range(number_test):\n",
    "        for j in range(number_train):\n",
    "            kernel_test[i, j] = rbf_kernel(x_test[i], x_train[j], gamma)\n",
    "    alpha = np.linalg.inv(kernel_train + hyperparameter * np.eye(number_train)).dot(y_train)\n",
    "    y_hat = kernel_test.dot(alpha)\n",
    "    return y_hat\n",
    "\n",
    "hyperparam = [0.1, 1, 10, 100]\n",
    "for i, hyperparameter in enumerate(hyperparam, 1):\n",
    "    y_hat = kernel_ridge_regression(x_train, y_train, x_test, number_train, number_test, hyperparameter, gamma)\n",
    "    plt.scatter(x_test, y_test, color=\"blue\", marker=\"x\")\n",
    "    plt.scatter(x_test, y_hat, color=\"red\", marker=\"x\")\n",
    "    rmse = np.sqrt(mean_squared_error(y_test, y_hat))\n",
    "    plt.title(f\"Kernel Ridge Regression with lambda = {hyperparameter} and RMSE = {rmse}\")\n",
    "    plt.xlabel(\"Inputs\")\n",
    "    plt.ylabel(\"Predicted/True Outputs\")\n",
    "    path = \"Kernel_Ridge_regression_\" + str(hyperparameter)+\".png\"\n",
    "    plt.savefig(path)\n",
    "    plt.close()"
   ]
  },
  {
   "cell_type": "code",
   "execution_count": 7,
   "id": "777c34f0",
   "metadata": {},
   "outputs": [],
   "source": [
    "# Part-2: Landmark Ridge Regression.\n",
    "def rbf_kernel(x1, x2, gamma):\n",
    "    return np.exp(-gamma * (np.linalg.norm(x1 - x2)) ** 2)\n",
    "\n",
    "def landmark_ridge_regression(x_train, y_train, x_test, number_train, number_test, hyperparameter, L, gamma):\n",
    "    landmarks = x_train[np.random.choice(number_train, L, replace=False)]\n",
    "    kernel_train = np.zeros((L, number_train))\n",
    "    kernel_test = np.zeros((L, number_test))\n",
    "    for i in range(L):\n",
    "        for j in range(number_train):\n",
    "            kernel_train[i, j] = rbf_kernel(landmarks[i], x_train[j], gamma)\n",
    "    for i in range(L):\n",
    "        for j in range(number_test):\n",
    "            kernel_test[i, j] = rbf_kernel(landmarks[i], x_test[j], gamma)\n",
    "    W = np.linalg.inv(kernel_train.dot(kernel_train.T) + hyperparameter * np.eye(L)).dot(kernel_train).dot(y_train)\n",
    "    y_hat = kernel_test.T.dot(W)\n",
    "    return y_hat\n",
    "\n",
    "hyperparameter = 0.1\n",
    "L_values = [2, 5, 20, 50, 100]\n",
    "for i, L in enumerate(L_values, 1):\n",
    "    y_hat = landmark_ridge_regression(x_train, y_train, x_test, number_train, number_test, hyperparameter, L, gamma)\n",
    "    plt.scatter(x_test, y_test, color=\"blue\", marker=\"x\")\n",
    "    plt.scatter(x_test, y_hat, color=\"red\", marker=\"x\")\n",
    "    rmse = np.sqrt(mean_squared_error(y_test, y_hat))\n",
    "    plt.title(f\"Landmark Ridge Regression with lambda = {hyperparameter}, L = {L} and RMSE = {rmse}\")\n",
    "    plt.xlabel(\"Inputs\")\n",
    "    plt.ylabel(\"Predicted/True Outputs\")\n",
    "    path = \"Landmark_Ridge_regression_\" + str(L)+\".png\"\n",
    "    plt.savefig(path)\n",
    "    plt.close()"
   ]
  }
 ],
 "metadata": {
  "kernelspec": {
   "display_name": "Python 3 (ipykernel)",
   "language": "python",
   "name": "python3"
  },
  "language_info": {
   "codemirror_mode": {
    "name": "ipython",
    "version": 3
   },
   "file_extension": ".py",
   "mimetype": "text/x-python",
   "name": "python",
   "nbconvert_exporter": "python",
   "pygments_lexer": "ipython3",
   "version": "3.11.6"
  }
 },
 "nbformat": 4,
 "nbformat_minor": 5
}
